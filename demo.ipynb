{
 "cells": [
  {
   "cell_type": "code",
   "execution_count": 2,
   "metadata": {},
   "outputs": [],
   "source": [
    "import numpy as np\n",
    "import matplotlib.pyplot as plt\n",
    "import detection_tools as dt\n",
    "from IPython.display import display\n",
    "from ipywidgets import interact, interaction, fixed, interact_manual, interactive\n",
    "import ipywidgets as widgets\n",
    "from glob import glob\n",
    "import imageio\n",
    "from skimage.exposure import equalize_hist\n",
    "\n",
    "%matplotlib inline"
   ]
  },
  {
   "cell_type": "markdown",
   "metadata": {},
   "source": [
    "## Error Level Analysis"
   ]
  },
  {
   "cell_type": "code",
   "execution_count": 3,
   "metadata": {},
   "outputs": [
    {
     "data": {
      "application/vnd.jupyter.widget-view+json": {
       "model_id": "04b55c68aefa486ca253139fca7bb47a",
       "version_major": 2,
       "version_minor": 0
      },
      "text/plain": [
       "interactive(children=(Dropdown(description='Archivo: ', index=6, options=('allimages/image_01.jpg', 'allimages…"
      ]
     },
     "metadata": {},
     "output_type": "display_data"
    }
   ],
   "source": [
    "filename = widgets.Dropdown(\n",
    "    options=glob('allimages/*.[pj]??'),\n",
    "    value='allimages/image_12.jpg',\n",
    "    description='Archivo: ',\n",
    "    disabled=False,\n",
    ")\n",
    "\n",
    "\n",
    "quality = widgets.IntSlider(\n",
    "    value=85,\n",
    "    min=0,\n",
    "    max=100,\n",
    "    step=1,\n",
    "    description='Calidad:',\n",
    "    disabled=False,\n",
    "    continuous_update=False,\n",
    "    orientation='horizontal',\n",
    "    readout=True,\n",
    "    readout_format='d'\n",
    ")\n",
    "\n",
    "# display(filename)\n",
    "# display(quality)\n",
    "\n",
    "def plot_ela(image_path, quality):\n",
    "    fig, ax = plt.subplots(ncols=2, sharey=True, figsize=(15,15))\n",
    "    ela = equalize_hist(dt.ela_substract(image_path, quality))\n",
    "    ori = imageio.imread(image_path)\n",
    "    ax[0].imshow(ori)\n",
    "    ax[1].imshow(ela)\n",
    "    plt.show()\n",
    "\n",
    "interactive_plot = interactive(plot_ela, image_path=filename, quality=quality)\n",
    "output = interactive_plot.children[-1]\n",
    "interactive_plot"
   ]
  },
  {
   "cell_type": "markdown",
   "metadata": {},
   "source": [
    "## Median filtering"
   ]
  },
  {
   "cell_type": "code",
   "execution_count": 4,
   "metadata": {},
   "outputs": [
    {
     "data": {
      "application/vnd.jupyter.widget-view+json": {
       "model_id": "8ff649fae3744e388406be6228541b27",
       "version_major": 2,
       "version_minor": 0
      },
      "text/plain": [
       "interactive(children=(Dropdown(description='Archivo: ', index=10, options=('allimages/image_01.jpg', 'allimage…"
      ]
     },
     "metadata": {},
     "output_type": "display_data"
    }
   ],
   "source": [
    "filename = widgets.Dropdown(\n",
    "    options=glob('allimages/*.[pj]??'),\n",
    "    value='allimages/image_11.jpg',\n",
    "    description='Archivo: ',\n",
    "    disabled=False,\n",
    ")\n",
    "style = {'description_width': 'initial'}\n",
    "window_size = widgets.IntSlider(\n",
    "    value=7,\n",
    "    min=3,\n",
    "    max=21,\n",
    "    step=2,\n",
    "    description='Ancho de ventana:',\n",
    "    disabled=False,\n",
    "    continuous_update=True,\n",
    "    orientation='horizontal',\n",
    "    readout=True,\n",
    "    readout_format='d',\n",
    "    style=style\n",
    ")\n",
    "\n",
    "def plot_median(image_path, window_size):\n",
    "    fig, ax = plt.subplots(ncols=2, sharey=True, figsize=(15,15))\n",
    "    median = dt.median_filter_residuals(image_path, selem=np.ones((window_size, window_size)))\n",
    "    ori = imageio.imread(image_path)\n",
    "    ax[0].imshow(ori)\n",
    "    ax[1].imshow(equalize_hist(median), cmap='gray')\n",
    "    plt.show()\n",
    "interactive_plot = interactive(plot_median, image_path=filename, window_size=window_size)\n",
    "output = interactive_plot.children[-1]\n",
    "interactive_plot"
   ]
  },
  {
   "cell_type": "markdown",
   "metadata": {},
   "source": [
    "## Wavelet Local Noise Levels"
   ]
  },
  {
   "cell_type": "code",
   "execution_count": 87,
   "metadata": {},
   "outputs": [
    {
     "data": {
      "application/vnd.jupyter.widget-view+json": {
       "model_id": "a5ff964ccdc34606af957f259bade6e6",
       "version_major": 2,
       "version_minor": 0
      },
      "text/plain": [
       "interactive(children=(Dropdown(description='Archivo: ', index=13, options=('allimages/image_01.jpg', 'allimage…"
      ]
     },
     "metadata": {},
     "output_type": "display_data"
    },
    {
     "data": {
      "image/png": "[encoded data removed]",
      "text/plain": [
       "<Figure size 1080x1080 with 2 Axes>"
      ]
     },
     "metadata": {},
     "output_type": "display_data"
    }
   ],
   "source": [
    "filename = widgets.Dropdown(\n",
    "    options=glob('allimages/*.[pj]??'),\n",
    "    value='allimages/image_11.jpg',\n",
    "    description='Archivo: ',\n",
    "    disabled=False,\n",
    ")\n",
    "\n",
    "logr = widgets.IntSlider(\n",
    "    value=3,\n",
    "    min=1,\n",
    "    max=4,\n",
    "    step=1,\n",
    "    description='2^n, n: ',\n",
    "    disabled=False,\n",
    "    continuous_update=False,\n",
    "    orientation='horizontal',\n",
    "    readout=True,\n",
    "    readout_format='d'\n",
    ")\n",
    "\n",
    "wavelet = widgets.Dropdown(\n",
    "    options=['bior1.3', 'coif1', 'db1', 'dmey', 'haar', 'rbio1.1', 'sym2'],\n",
    "    value='bior1.3',\n",
    "    description='Wavelet: ',\n",
    "    disabled=False,\n",
    ")\n",
    "\n",
    "\n",
    "def plot_wavelet(image_path, wave, n):\n",
    "    fig, ax = plt.subplots(ncols=2, sharey=True, figsize=(15,15))\n",
    "    img = imageio.imread(image_path)\n",
    "    transform = dt.noise_detection_wavelet(img, '', wave, 2 ** n)\n",
    "    ori = imageio.imread(image_path)\n",
    "    ax[0].imshow(ori)\n",
    "    ax[1].imshow(transform, cmap='gray')\n",
    "    plt.show()\n",
    "interactive_plot = interactive(plot_wavelet, image_path=filename, wave=wavelet, n=logr)\n",
    "output = interactive_plot.children[-1]\n",
    "interactive_plot"
   ]
  },
  {
   "cell_type": "code",
   "execution_count": null,
   "metadata": {},
   "outputs": [],
   "source": []
  }
 ],
 "metadata": {
  "kernelspec": {
   "display_name": "Python 3",
   "language": "python",
   "name": "python3"
  },
  "language_info": {
   "codemirror_mode": {
    "name": "ipython",
    "version": 3
   },
   "file_extension": ".py",
   "mimetype": "text/x-python",
   "name": "python",
   "nbconvert_exporter": "python",
   "pygments_lexer": "ipython3",
   "version": "3.7.0"
  }
 },
 "nbformat": 4,
 "nbformat_minor": 2
}
