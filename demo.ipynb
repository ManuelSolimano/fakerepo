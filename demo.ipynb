{
 "cells": [
  {
   "cell_type": "code",
   "execution_count": 59,
   "metadata": {},
   "outputs": [],
   "source": [
    "import numpy as np\n",
    "import matplotlib.pyplot as plt\n",
    "import detection_tools as dt\n",
    "from IPython.display import display\n",
    "from ipywidgets import interact, interaction, fixed, interact_manual, interactive\n",
    "import ipywidgets as widgets\n",
    "from glob import glob\n",
    "import imageio\n",
    "from skimage.exposure import equalize_hist\n",
    "\n",
    "%matplotlib inline"
   ]
  },
  {
   "cell_type": "markdown",
   "metadata": {},
   "source": [
    "## Error Level Analysis"
   ]
  },
  {
   "cell_type": "code",
   "execution_count": 77,
   "metadata": {},
   "outputs": [
    {
     "data": {
      "application/vnd.jupyter.widget-view+json": {
       "model_id": "838d46f3c56245f4bb5bbba940cda513",
       "version_major": 2,
       "version_minor": 0
      },
      "text/plain": [
       "interactive(children=(Dropdown(description='Archivo: ', index=8, options=('allimages/image_01.jpg', 'allimages…"
      ]
     },
     "metadata": {},
     "output_type": "display_data"
    }
   ],
   "source": [
    "filename = widgets.Dropdown(\n",
    "    options=glob('allimages/*.[pj]??'),\n",
    "    value='allimages/image_12.jpg',\n",
    "    description='Archivo: ',\n",
    "    disabled=False,\n",
    ")\n",
    "\n",
    "\n",
    "quality = widgets.IntSlider(\n",
    "    value=85,\n",
    "    min=0,\n",
    "    max=100,\n",
    "    step=1,\n",
    "    description='Calidad:',\n",
    "    disabled=False,\n",
    "    continuous_update=False,\n",
    "    orientation='horizontal',\n",
    "    readout=True,\n",
    "    readout_format='d'\n",
    ")\n",
    "\n",
    "# display(filename)\n",
    "# display(quality)\n",
    "\n",
    "def plot_ela(image_path, quality):\n",
    "    fig, ax = plt.subplots(ncols=2, sharey=True, figsize=(15,15))\n",
    "    ela = equalize_hist(dt.ela_substract(image_path, quality))\n",
    "    ori = imageio.imread(image_path)\n",
    "    ax[0].imshow(ori)\n",
    "    ax[1].imshow(ela)\n",
    "    plt.show()\n",
    "\n",
    "interactive_plot = interactive(plot_ela, image_path=filename, quality=quality)\n",
    "output = interactive_plot.children[-1]\n",
    "interactive_plot"
   ]
  },
  {
   "cell_type": "markdown",
   "metadata": {},
   "source": [
    "## Median filtering"
   ]
  },
  {
   "cell_type": "code",
   "execution_count": 84,
   "metadata": {},
   "outputs": [
    {
     "data": {
      "application/vnd.jupyter.widget-view+json": {
       "model_id": "fa608473e7d74094a6a415103c02bcae",
       "version_major": 2,
       "version_minor": 0
      },
      "text/plain": [
       "interactive(children=(Dropdown(description='Archivo: ', index=13, options=('allimages/image_01.jpg', 'allimage…"
      ]
     },
     "metadata": {},
     "output_type": "display_data"
    }
   ],
   "source": [
    "filename = widgets.Dropdown(\n",
    "    options=glob('allimages/*.[pj]??'),\n",
    "    value='allimages/image_11.jpg',\n",
    "    description='Archivo: ',\n",
    "    disabled=False,\n",
    ")\n",
    "style = {'description_width': 'initial'}\n",
    "window_size = widgets.IntSlider(\n",
    "    value=7,\n",
    "    min=3,\n",
    "    max=21,\n",
    "    step=2,\n",
    "    description='Ancho de ventana:',\n",
    "    disabled=False,\n",
    "    continuous_update=True,\n",
    "    orientation='horizontal',\n",
    "    readout=True,\n",
    "    readout_format='d',\n",
    "    style=style\n",
    ")\n",
    "\n",
    "def plot_median(image_path, window_size):\n",
    "    fig, ax = plt.subplots(ncols=2, sharey=True, figsize=(15,15))\n",
    "    median = dt.median_filter_residuals(image_path, selem=np.ones((window_size, window_size)))\n",
    "    ori = imageio.imread(image_path)\n",
    "    ax[0].imshow(ori)\n",
    "    ax[1].imshow(equalize_hist(median), cmap='gray')\n",
    "    plt.show()\n",
    "interactive_plot = interactive(plot_median, image_path=filename, window_size=window_size)\n",
    "output = interactive_plot.children[-1]\n",
    "interactive_plot"
   ]
  },
  {
   "cell_type": "markdown",
   "metadata": {},
   "source": [
    "## Wavelet Local Noise Levels"
   ]
  },
  {
   "cell_type": "code",
   "execution_count": null,
   "metadata": {},
   "outputs": [],
   "source": []
  }
 ],
 "metadata": {
  "kernelspec": {
   "display_name": "Python 3",
   "language": "python",
   "name": "python3"
  },
  "language_info": {
   "codemirror_mode": {
    "name": "ipython",
    "version": 3
   },
   "file_extension": ".py",
   "mimetype": "text/x-python",
   "name": "python",
   "nbconvert_exporter": "python",
   "pygments_lexer": "ipython3",
   "version": "3.6.6"
  }
 },
 "nbformat": 4,
 "nbformat_minor": 2
}
